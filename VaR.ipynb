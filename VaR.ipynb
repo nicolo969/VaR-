{
  "nbformat": 4,
  "nbformat_minor": 0,
  "metadata": {
    "colab": {
      "name": "VaR",
      "provenance": [],
      "authorship_tag": "ABX9TyMs3X+KQKaUmXNH92STjM8a",
      "include_colab_link": true
    },
    "kernelspec": {
      "name": "python3",
      "display_name": "Python 3"
    },
    "language_info": {
      "name": "python"
    }
  },
  "cells": [
    {
      "cell_type": "markdown",
      "metadata": {
        "id": "view-in-github",
        "colab_type": "text"
      },
      "source": [
        "<a href=\"https://colab.research.google.com/github/nicolo969/VaR-/blob/main/VaR.ipynb\" target=\"_parent\"><img src=\"https://colab.research.google.com/assets/colab-badge.svg\" alt=\"Open In Colab\"/></a>"
      ]
    },
    {
      "cell_type": "code",
      "source": [
        "!pip install yfinance"
      ],
      "metadata": {
        "colab": {
          "base_uri": "https://localhost:8080/"
        },
        "id": "g2Whtg9TCN4R",
        "outputId": "cc10134e-9ba8-48e2-c7ca-c756624b94ae"
      },
      "execution_count": null,
      "outputs": [
        {
          "output_type": "stream",
          "name": "stdout",
          "text": [
            "Collecting yfinance\n",
            "  Downloading yfinance-0.1.70-py2.py3-none-any.whl (26 kB)\n",
            "Requirement already satisfied: numpy>=1.15 in /usr/local/lib/python3.7/dist-packages (from yfinance) (1.21.6)\n",
            "Collecting requests>=2.26\n",
            "  Downloading requests-2.27.1-py2.py3-none-any.whl (63 kB)\n",
            "\u001b[K     |████████████████████████████████| 63 kB 1.3 MB/s \n",
            "\u001b[?25hCollecting lxml>=4.5.1\n",
            "  Downloading lxml-4.8.0-cp37-cp37m-manylinux_2_17_x86_64.manylinux2014_x86_64.manylinux_2_24_x86_64.whl (6.4 MB)\n",
            "\u001b[K     |████████████████████████████████| 6.4 MB 9.9 MB/s \n",
            "\u001b[?25hRequirement already satisfied: pandas>=0.24.0 in /usr/local/lib/python3.7/dist-packages (from yfinance) (1.3.5)\n",
            "Requirement already satisfied: multitasking>=0.0.7 in /usr/local/lib/python3.7/dist-packages (from yfinance) (0.0.10)\n",
            "Requirement already satisfied: python-dateutil>=2.7.3 in /usr/local/lib/python3.7/dist-packages (from pandas>=0.24.0->yfinance) (2.8.2)\n",
            "Requirement already satisfied: pytz>=2017.3 in /usr/local/lib/python3.7/dist-packages (from pandas>=0.24.0->yfinance) (2022.1)\n",
            "Requirement already satisfied: six>=1.5 in /usr/local/lib/python3.7/dist-packages (from python-dateutil>=2.7.3->pandas>=0.24.0->yfinance) (1.15.0)\n",
            "Requirement already satisfied: idna<4,>=2.5 in /usr/local/lib/python3.7/dist-packages (from requests>=2.26->yfinance) (2.10)\n",
            "Requirement already satisfied: certifi>=2017.4.17 in /usr/local/lib/python3.7/dist-packages (from requests>=2.26->yfinance) (2021.10.8)\n",
            "Requirement already satisfied: urllib3<1.27,>=1.21.1 in /usr/local/lib/python3.7/dist-packages (from requests>=2.26->yfinance) (1.24.3)\n",
            "Requirement already satisfied: charset-normalizer~=2.0.0 in /usr/local/lib/python3.7/dist-packages (from requests>=2.26->yfinance) (2.0.12)\n",
            "Installing collected packages: requests, lxml, yfinance\n",
            "  Attempting uninstall: requests\n",
            "    Found existing installation: requests 2.23.0\n",
            "    Uninstalling requests-2.23.0:\n",
            "      Successfully uninstalled requests-2.23.0\n",
            "  Attempting uninstall: lxml\n",
            "    Found existing installation: lxml 4.2.6\n",
            "    Uninstalling lxml-4.2.6:\n",
            "      Successfully uninstalled lxml-4.2.6\n",
            "\u001b[31mERROR: pip's dependency resolver does not currently take into account all the packages that are installed. This behaviour is the source of the following dependency conflicts.\n",
            "google-colab 1.0.0 requires requests~=2.23.0, but you have requests 2.27.1 which is incompatible.\n",
            "datascience 0.10.6 requires folium==0.2.1, but you have folium 0.8.3 which is incompatible.\u001b[0m\n",
            "Successfully installed lxml-4.8.0 requests-2.27.1 yfinance-0.1.70\n"
          ]
        }
      ]
    },
    {
      "cell_type": "code",
      "execution_count": null,
      "metadata": {
        "id": "lJ1MC8RgCAaj"
      },
      "outputs": [],
      "source": [
        "import numpy as np\n",
        "import pandas as pd \n",
        "import matplotlib.pyplot as plt\n",
        "import seaborn \n",
        "from scipy.stats import norm\n",
        "import yfinance as yf \n",
        "from tabulate import tabulate"
      ]
    },
    {
      "cell_type": "code",
      "source": [
        "\n",
        "df = yf.download('^GSPC')\n",
        "df['retornos'] = df.Close.loc[:'2020-01-01'].pct_change()\n",
        "df['retornos_2020'] = df.Close.loc['2020-01-01':].pct_change()\n",
        "df['retornos'].dropna(inplace=True)\n",
        "df['retornos_2020'].dropna(inplace=True)\n",
        "df"
      ],
      "metadata": {
        "colab": {
          "base_uri": "https://localhost:8080/",
          "height": 472
        },
        "id": "fPzTA2MQFI8A",
        "outputId": "e2f5b7c7-0aa7-494f-bc00-c2260bc31096"
      },
      "execution_count": null,
      "outputs": [
        {
          "output_type": "stream",
          "name": "stdout",
          "text": [
            "\r[*********************100%***********************]  1 of 1 completed\n"
          ]
        },
        {
          "output_type": "execute_result",
          "data": {
            "text/plain": [
              "                  Open         High          Low        Close    Adj Close  \\\n",
              "Date                                                                         \n",
              "1950-01-03    16.66000    16.660000    16.660000    16.660000    16.660000   \n",
              "1950-01-04    16.85000    16.850000    16.850000    16.850000    16.850000   \n",
              "1950-01-05    16.93000    16.930000    16.930000    16.930000    16.930000   \n",
              "1950-01-06    16.98000    16.980000    16.980000    16.980000    16.980000   \n",
              "1950-01-09    17.08000    17.080000    17.080000    17.080000    17.080000   \n",
              "...                ...          ...          ...          ...          ...   \n",
              "2022-05-16  4013.02002  4046.459961  3983.989990  4008.010010  4008.010010   \n",
              "2022-05-17  4052.00000  4090.719971  4033.929932  4088.850098  4088.850098   \n",
              "2022-05-18  4051.97998  4051.979980  3911.909912  3923.679932  3923.679932   \n",
              "2022-05-19  3899.00000  3945.959961  3876.580078  3900.790039  3900.790039   \n",
              "2022-05-20  3927.76001  3943.419922  3810.320068  3901.360107  3901.360107   \n",
              "\n",
              "                Volume  retornos  retornos_2020  \n",
              "Date                                             \n",
              "1950-01-03     1260000       NaN            NaN  \n",
              "1950-01-04     1890000  0.011405            NaN  \n",
              "1950-01-05     2550000  0.004748            NaN  \n",
              "1950-01-06     2010000  0.002953            NaN  \n",
              "1950-01-09     2520000  0.005889            NaN  \n",
              "...                ...       ...            ...  \n",
              "2022-05-16  3824320000       NaN      -0.003946  \n",
              "2022-05-17  3846580000       NaN       0.020170  \n",
              "2022-05-18  4428960000       NaN      -0.040395  \n",
              "2022-05-19  4212140000       NaN      -0.005834  \n",
              "2022-05-20  4278520000       NaN       0.000146  \n",
              "\n",
              "[18215 rows x 8 columns]"
            ],
            "text/html": [
              "\n",
              "  <div id=\"df-c75fd9a6-26c0-4e5e-9284-957e2fa08e0e\">\n",
              "    <div class=\"colab-df-container\">\n",
              "      <div>\n",
              "<style scoped>\n",
              "    .dataframe tbody tr th:only-of-type {\n",
              "        vertical-align: middle;\n",
              "    }\n",
              "\n",
              "    .dataframe tbody tr th {\n",
              "        vertical-align: top;\n",
              "    }\n",
              "\n",
              "    .dataframe thead th {\n",
              "        text-align: right;\n",
              "    }\n",
              "</style>\n",
              "<table border=\"1\" class=\"dataframe\">\n",
              "  <thead>\n",
              "    <tr style=\"text-align: right;\">\n",
              "      <th></th>\n",
              "      <th>Open</th>\n",
              "      <th>High</th>\n",
              "      <th>Low</th>\n",
              "      <th>Close</th>\n",
              "      <th>Adj Close</th>\n",
              "      <th>Volume</th>\n",
              "      <th>retornos</th>\n",
              "      <th>retornos_2020</th>\n",
              "    </tr>\n",
              "    <tr>\n",
              "      <th>Date</th>\n",
              "      <th></th>\n",
              "      <th></th>\n",
              "      <th></th>\n",
              "      <th></th>\n",
              "      <th></th>\n",
              "      <th></th>\n",
              "      <th></th>\n",
              "      <th></th>\n",
              "    </tr>\n",
              "  </thead>\n",
              "  <tbody>\n",
              "    <tr>\n",
              "      <th>1950-01-03</th>\n",
              "      <td>16.66000</td>\n",
              "      <td>16.660000</td>\n",
              "      <td>16.660000</td>\n",
              "      <td>16.660000</td>\n",
              "      <td>16.660000</td>\n",
              "      <td>1260000</td>\n",
              "      <td>NaN</td>\n",
              "      <td>NaN</td>\n",
              "    </tr>\n",
              "    <tr>\n",
              "      <th>1950-01-04</th>\n",
              "      <td>16.85000</td>\n",
              "      <td>16.850000</td>\n",
              "      <td>16.850000</td>\n",
              "      <td>16.850000</td>\n",
              "      <td>16.850000</td>\n",
              "      <td>1890000</td>\n",
              "      <td>0.011405</td>\n",
              "      <td>NaN</td>\n",
              "    </tr>\n",
              "    <tr>\n",
              "      <th>1950-01-05</th>\n",
              "      <td>16.93000</td>\n",
              "      <td>16.930000</td>\n",
              "      <td>16.930000</td>\n",
              "      <td>16.930000</td>\n",
              "      <td>16.930000</td>\n",
              "      <td>2550000</td>\n",
              "      <td>0.004748</td>\n",
              "      <td>NaN</td>\n",
              "    </tr>\n",
              "    <tr>\n",
              "      <th>1950-01-06</th>\n",
              "      <td>16.98000</td>\n",
              "      <td>16.980000</td>\n",
              "      <td>16.980000</td>\n",
              "      <td>16.980000</td>\n",
              "      <td>16.980000</td>\n",
              "      <td>2010000</td>\n",
              "      <td>0.002953</td>\n",
              "      <td>NaN</td>\n",
              "    </tr>\n",
              "    <tr>\n",
              "      <th>1950-01-09</th>\n",
              "      <td>17.08000</td>\n",
              "      <td>17.080000</td>\n",
              "      <td>17.080000</td>\n",
              "      <td>17.080000</td>\n",
              "      <td>17.080000</td>\n",
              "      <td>2520000</td>\n",
              "      <td>0.005889</td>\n",
              "      <td>NaN</td>\n",
              "    </tr>\n",
              "    <tr>\n",
              "      <th>...</th>\n",
              "      <td>...</td>\n",
              "      <td>...</td>\n",
              "      <td>...</td>\n",
              "      <td>...</td>\n",
              "      <td>...</td>\n",
              "      <td>...</td>\n",
              "      <td>...</td>\n",
              "      <td>...</td>\n",
              "    </tr>\n",
              "    <tr>\n",
              "      <th>2022-05-16</th>\n",
              "      <td>4013.02002</td>\n",
              "      <td>4046.459961</td>\n",
              "      <td>3983.989990</td>\n",
              "      <td>4008.010010</td>\n",
              "      <td>4008.010010</td>\n",
              "      <td>3824320000</td>\n",
              "      <td>NaN</td>\n",
              "      <td>-0.003946</td>\n",
              "    </tr>\n",
              "    <tr>\n",
              "      <th>2022-05-17</th>\n",
              "      <td>4052.00000</td>\n",
              "      <td>4090.719971</td>\n",
              "      <td>4033.929932</td>\n",
              "      <td>4088.850098</td>\n",
              "      <td>4088.850098</td>\n",
              "      <td>3846580000</td>\n",
              "      <td>NaN</td>\n",
              "      <td>0.020170</td>\n",
              "    </tr>\n",
              "    <tr>\n",
              "      <th>2022-05-18</th>\n",
              "      <td>4051.97998</td>\n",
              "      <td>4051.979980</td>\n",
              "      <td>3911.909912</td>\n",
              "      <td>3923.679932</td>\n",
              "      <td>3923.679932</td>\n",
              "      <td>4428960000</td>\n",
              "      <td>NaN</td>\n",
              "      <td>-0.040395</td>\n",
              "    </tr>\n",
              "    <tr>\n",
              "      <th>2022-05-19</th>\n",
              "      <td>3899.00000</td>\n",
              "      <td>3945.959961</td>\n",
              "      <td>3876.580078</td>\n",
              "      <td>3900.790039</td>\n",
              "      <td>3900.790039</td>\n",
              "      <td>4212140000</td>\n",
              "      <td>NaN</td>\n",
              "      <td>-0.005834</td>\n",
              "    </tr>\n",
              "    <tr>\n",
              "      <th>2022-05-20</th>\n",
              "      <td>3927.76001</td>\n",
              "      <td>3943.419922</td>\n",
              "      <td>3810.320068</td>\n",
              "      <td>3901.360107</td>\n",
              "      <td>3901.360107</td>\n",
              "      <td>4278520000</td>\n",
              "      <td>NaN</td>\n",
              "      <td>0.000146</td>\n",
              "    </tr>\n",
              "  </tbody>\n",
              "</table>\n",
              "<p>18215 rows × 8 columns</p>\n",
              "</div>\n",
              "      <button class=\"colab-df-convert\" onclick=\"convertToInteractive('df-c75fd9a6-26c0-4e5e-9284-957e2fa08e0e')\"\n",
              "              title=\"Convert this dataframe to an interactive table.\"\n",
              "              style=\"display:none;\">\n",
              "        \n",
              "  <svg xmlns=\"http://www.w3.org/2000/svg\" height=\"24px\"viewBox=\"0 0 24 24\"\n",
              "       width=\"24px\">\n",
              "    <path d=\"M0 0h24v24H0V0z\" fill=\"none\"/>\n",
              "    <path d=\"M18.56 5.44l.94 2.06.94-2.06 2.06-.94-2.06-.94-.94-2.06-.94 2.06-2.06.94zm-11 1L8.5 8.5l.94-2.06 2.06-.94-2.06-.94L8.5 2.5l-.94 2.06-2.06.94zm10 10l.94 2.06.94-2.06 2.06-.94-2.06-.94-.94-2.06-.94 2.06-2.06.94z\"/><path d=\"M17.41 7.96l-1.37-1.37c-.4-.4-.92-.59-1.43-.59-.52 0-1.04.2-1.43.59L10.3 9.45l-7.72 7.72c-.78.78-.78 2.05 0 2.83L4 21.41c.39.39.9.59 1.41.59.51 0 1.02-.2 1.41-.59l7.78-7.78 2.81-2.81c.8-.78.8-2.07 0-2.86zM5.41 20L4 18.59l7.72-7.72 1.47 1.35L5.41 20z\"/>\n",
              "  </svg>\n",
              "      </button>\n",
              "      \n",
              "  <style>\n",
              "    .colab-df-container {\n",
              "      display:flex;\n",
              "      flex-wrap:wrap;\n",
              "      gap: 12px;\n",
              "    }\n",
              "\n",
              "    .colab-df-convert {\n",
              "      background-color: #E8F0FE;\n",
              "      border: none;\n",
              "      border-radius: 50%;\n",
              "      cursor: pointer;\n",
              "      display: none;\n",
              "      fill: #1967D2;\n",
              "      height: 32px;\n",
              "      padding: 0 0 0 0;\n",
              "      width: 32px;\n",
              "    }\n",
              "\n",
              "    .colab-df-convert:hover {\n",
              "      background-color: #E2EBFA;\n",
              "      box-shadow: 0px 1px 2px rgba(60, 64, 67, 0.3), 0px 1px 3px 1px rgba(60, 64, 67, 0.15);\n",
              "      fill: #174EA6;\n",
              "    }\n",
              "\n",
              "    [theme=dark] .colab-df-convert {\n",
              "      background-color: #3B4455;\n",
              "      fill: #D2E3FC;\n",
              "    }\n",
              "\n",
              "    [theme=dark] .colab-df-convert:hover {\n",
              "      background-color: #434B5C;\n",
              "      box-shadow: 0px 1px 3px 1px rgba(0, 0, 0, 0.15);\n",
              "      filter: drop-shadow(0px 1px 2px rgba(0, 0, 0, 0.3));\n",
              "      fill: #FFFFFF;\n",
              "    }\n",
              "  </style>\n",
              "\n",
              "      <script>\n",
              "        const buttonEl =\n",
              "          document.querySelector('#df-c75fd9a6-26c0-4e5e-9284-957e2fa08e0e button.colab-df-convert');\n",
              "        buttonEl.style.display =\n",
              "          google.colab.kernel.accessAllowed ? 'block' : 'none';\n",
              "\n",
              "        async function convertToInteractive(key) {\n",
              "          const element = document.querySelector('#df-c75fd9a6-26c0-4e5e-9284-957e2fa08e0e');\n",
              "          const dataTable =\n",
              "            await google.colab.kernel.invokeFunction('convertToInteractive',\n",
              "                                                     [key], {});\n",
              "          if (!dataTable) return;\n",
              "\n",
              "          const docLinkHtml = 'Like what you see? Visit the ' +\n",
              "            '<a target=\"_blank\" href=https://colab.research.google.com/notebooks/data_table.ipynb>data table notebook</a>'\n",
              "            + ' to learn more about interactive tables.';\n",
              "          element.innerHTML = '';\n",
              "          dataTable['output_type'] = 'display_data';\n",
              "          await google.colab.output.renderOutput(dataTable, element);\n",
              "          const docLink = document.createElement('div');\n",
              "          docLink.innerHTML = docLinkHtml;\n",
              "          element.appendChild(docLink);\n",
              "        }\n",
              "      </script>\n",
              "    </div>\n",
              "  </div>\n",
              "  "
            ]
          },
          "metadata": {},
          "execution_count": 132
        }
      ]
    },
    {
      "cell_type": "code",
      "source": [
        "media1 = df['retornos'].mean()\n",
        "std1 = df['retornos'].std()\n",
        "media2 = df['retornos_2020'].mean()\n",
        "std2 = df['retornos_2020'].std()\n",
        "fig,ax = plt.subplots(figsize=(10,5))\n",
        "df['retornos'].hist(bins=200,histtype='stepfilled',alpha=0.9,color = 'black')\n",
        "ax.set_xlim(-0.05,0.05)\n",
        "label=(['Retornos sp500 desde 1950 Hasta 2020'])\n",
        "\n",
        "plt.legend(label)\n",
        "\n",
        "plt.axvline(std1,ls='--',color='r')\n",
        "plt.axvline(media1-std1,ls='--',color='r')\n",
        "\n"
      ],
      "metadata": {
        "colab": {
          "base_uri": "https://localhost:8080/",
          "height": 337
        },
        "id": "6-7GOAehFTKw",
        "outputId": "449a4076-0c73-4dfb-fd0d-6d0b7e371261"
      },
      "execution_count": null,
      "outputs": [
        {
          "output_type": "execute_result",
          "data": {
            "text/plain": [
              "<matplotlib.lines.Line2D at 0x7fad9e9429d0>"
            ]
          },
          "metadata": {},
          "execution_count": 176
        },
        {
          "output_type": "display_data",
          "data": {
            "text/plain": [
              "<Figure size 720x360 with 1 Axes>"
            ],
            "image/png": "[encoded data removed]"
          },
          "metadata": {
            "needs_background": "light"
          }
        }
      ]
    },
    {
      "cell_type": "code",
      "source": [
        "media1 = df['retornos'].mean()\n",
        "std1 = df['retornos'].std()\n",
        "media2 = df['retornos_2020'].mean()\n",
        "std2 = df['retornos_2020'].std()\n",
        "fig,ax = plt.subplots(figsize=(10,5))\n",
        "df['retornos_2020'].hist(bins=100,histtype='stepfilled',alpha=0.9,color = 'black')\n",
        "ax.set_xlim(-0.05,0.05)\n",
        "\n",
        "label=(['Retornos sp500 desde 2020'])\n",
        "\n",
        "plt.legend(label)\n",
        "plt.axvline(std2,ls='--',color='r')\n",
        "plt.axvline(media2-std2,ls='--',color='r')\n"
      ],
      "metadata": {
        "colab": {
          "base_uri": "https://localhost:8080/",
          "height": 337
        },
        "id": "kX2s5_4KF1D_",
        "outputId": "b3db930b-1f45-4def-d87f-e098c1cea229"
      },
      "execution_count": null,
      "outputs": [
        {
          "output_type": "execute_result",
          "data": {
            "text/plain": [
              "<matplotlib.lines.Line2D at 0x7fad9e62c290>"
            ]
          },
          "metadata": {},
          "execution_count": 165
        },
        {
          "output_type": "display_data",
          "data": {
            "text/plain": [
              "<Figure size 720x360 with 1 Axes>"
            ],
            "image/png": "[encoded data removed]"
          },
          "metadata": {
            "needs_background": "light"
          }
        }
      ]
    },
    {
      "cell_type": "code",
      "source": [
        "VaR1_90 = norm.ppf((1-0.9),media1,std1)\n",
        "VaR1_95 = norm.ppf((1-0.95),media1,std1)\n",
        "VaR1_99 = norm.ppf((1-0.99),media1,std1)\n",
        "#desde 2020\n",
        "VaR2_90 = norm.ppf((1-0.9),media2,std2)\n",
        "VaR2_95 = norm.ppf((1-0.95),media2,std2)\n",
        "VaR2_99 = norm.ppf((1-0.99),media2,std2)\n",
        "\n",
        "print(tabulate([['90%',VaR1_90],['95%',VaR1_95],['99%',VaR1_99]],headers = ['Nivel de Confianza','VaR Historico 1950-2020']))\n",
        "print(tabulate([['90%',VaR2_90],['95%',VaR2_95],['99%',VaR2_99]],headers = ['Nivel de Confianza','VaR Historico 2020']))"
      ],
      "metadata": {
        "colab": {
          "base_uri": "https://localhost:8080/"
        },
        "id": "kTcdM-UrF304",
        "outputId": "3ea8e21d-433a-497c-eeca-7f1ae5e6c33c"
      },
      "execution_count": null,
      "outputs": [
        {
          "output_type": "stream",
          "name": "stdout",
          "text": [
            "Nivel de Confianza      VaR Historico 1950-2020\n",
            "--------------------  -------------------------\n",
            "90%                                  -0.0119606\n",
            "95%                                  -0.0154492\n",
            "99%                                  -0.0219932\n",
            "Nivel de Confianza      VaR Historico 2020\n",
            "--------------------  --------------------\n",
            "90%                             -0.0203783\n",
            "95%                             -0.0262779\n",
            "99%                             -0.0373446\n"
          ]
        }
      ]
    },
    {
      "cell_type": "code",
      "source": [
        "import seaborn as sns\n",
        "sns.boxplot(df['retornos_2020'])\n"
      ],
      "metadata": {
        "id": "eEiV1UyVLMjA",
        "colab": {
          "base_uri": "https://localhost:8080/",
          "height": 352
        },
        "outputId": "d11228c1-523d-4ae6-e383-8d4ecef4f1bd"
      },
      "execution_count": null,
      "outputs": [
        {
          "output_type": "stream",
          "name": "stderr",
          "text": [
            "/usr/local/lib/python3.7/dist-packages/seaborn/_decorators.py:43: FutureWarning: Pass the following variable as a keyword arg: x. From version 0.12, the only valid positional argument will be `data`, and passing other arguments without an explicit keyword will result in an error or misinterpretation.\n",
            "  FutureWarning\n"
          ]
        },
        {
          "output_type": "execute_result",
          "data": {
            "text/plain": [
              "<matplotlib.axes._subplots.AxesSubplot at 0x7fada14ba510>"
            ]
          },
          "metadata": {},
          "execution_count": 185
        },
        {
          "output_type": "display_data",
          "data": {
            "text/plain": [
              "<Figure size 432x288 with 1 Axes>"
            ],
            "image/png": "[encoded data removed]"
          },
          "metadata": {
            "needs_background": "light"
          }
        }
      ]
    },
    {
      "cell_type": "code",
      "source": [
        "sns.boxplot(df['retornos'])\n"
      ],
      "metadata": {
        "colab": {
          "base_uri": "https://localhost:8080/",
          "height": 351
        },
        "id": "3laNq99ydfKA",
        "outputId": "6e8d2f5f-b176-4337-a008-4fd9d3b2fda1"
      },
      "execution_count": null,
      "outputs": [
        {
          "output_type": "stream",
          "name": "stderr",
          "text": [
            "/usr/local/lib/python3.7/dist-packages/seaborn/_decorators.py:43: FutureWarning: Pass the following variable as a keyword arg: x. From version 0.12, the only valid positional argument will be `data`, and passing other arguments without an explicit keyword will result in an error or misinterpretation.\n",
            "  FutureWarning\n"
          ]
        },
        {
          "output_type": "execute_result",
          "data": {
            "text/plain": [
              "<matplotlib.axes._subplots.AxesSubplot at 0x7fada13fbd10>"
            ]
          },
          "metadata": {},
          "execution_count": 186
        },
        {
          "output_type": "display_data",
          "data": {
            "text/plain": [
              "<Figure size 432x288 with 1 Axes>"
            ],
            "image/png": "[encoded data removed]"
          },
          "metadata": {
            "needs_background": "light"
          }
        }
      ]
    }
  ]
}